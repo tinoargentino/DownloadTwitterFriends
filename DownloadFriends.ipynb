{
 "metadata": {
  "language_info": {
   "codemirror_mode": {
    "name": "ipython",
    "version": 3
   },
   "file_extension": ".py",
   "mimetype": "text/x-python",
   "name": "python",
   "nbconvert_exporter": "python",
   "pygments_lexer": "ipython3",
   "version": "3.8.2-final"
  },
  "orig_nbformat": 2,
  "kernelspec": {
   "name": "python3",
   "display_name": "Python 3.8.2 64-bit ('env': venv)",
   "metadata": {
    "interpreter": {
     "hash": "d0755b2b6b572a068072419dd47fc4b5ff6e2a88a3fdd4741297c718a21b98e0"
    }
   }
  }
 },
 "nbformat": 4,
 "nbformat_minor": 2,
 "cells": [
  {
   "cell_type": "code",
   "execution_count": 2,
   "metadata": {},
   "outputs": [],
   "source": [
    "import tweepy\n",
    "\n",
    "consumer_key='jxyk5BufAJUcGs4iB3Lzg5V7l'\n",
    "consumer_secret='5TtFzcnZ2iXNPK5XCLYzSVaIUPbxp2NCR8pzU53hpYZ7jiwLtS'\n",
    "access_token='346360426-3R934f0ZfOzo7FU4kZ47f2fiZhNN0jU9OEUBgKxF'\n",
    "access_token_secret='y1PelClKQ9IaLPqw5ZqWkFyO7qT0ZOBux1vHl2LZp9h33'\n",
    "\n",
    "auth = tweepy.OAuthHandler(consumer_key, consumer_secret)\n",
    "auth.set_access_token(access_token, access_token_secret)\n",
    "\n",
    "api = tweepy.API(auth)\n",
    "\n",
    "public_tweets = api.home_timeline()\n"
   ]
  },
  {
   "cell_type": "code",
   "execution_count": 3,
   "metadata": {},
   "outputs": [
    {
     "output_type": "stream",
     "name": "stdout",
     "text": [
      "Jajajaja https://t.co/8HMEHsilBv\nI am online https://t.co/Ub4llBUIyn\nRT @ericxdelta: Just subscribed to #LeighCuensNewsletter, featuring crypto and other cool, fun &amp; interesting topics - you should, too.\nChec…\nBut do you have an NFT yet?? 😆🥴😅 https://t.co/XdsCtlN3tT\nRT @fedexweb: Grazie @fabiomb por el libro.\nhttps://t.co/t3SX9BJWn7 https://t.co/V9JqzduVs8\nEstablishing a continuous track on a target or object of great tactical relevance can prove difficult for even the… https://t.co/AsIOUvwqgx\nAll of these brands are synergistic— https://t.co/EZU4AVpMWu\nTexas was pretty chilly in 2011 and again in 2014. And yet electricity companies didn’t prepare for the possibility… https://t.co/9Aj9LdSfFG\nThere is a territory when the rhythm has expressiveness.what defines the territory is the emergence of matters of expression (qualities).\nPromover la anomia y la desconfianza en medio de una catástrofe que necesita cooperación de la sociedad, sobre todo… https://t.co/DKKIBvGSE7\n@CarlosMaslaton @RCachanosky Eva, Isabel, el carlo. Tu analisis es muy estupido\n@juliagalef I think part of your original tweet is exploring how one might make a case for group membership as a ca… https://t.co/djfqbEenWC\nHey Integromat users! Did you know that when you add a module after an array aggregator, it affects the target stru… https://t.co/npAjxhuguX\nhay medios berreta, medios de mierda, medios muy de mierda, e infobagre.\n@eigenrobot @pareinoia you've invented judaism\nEste proyecto decadente de zurdos de San Telmo... https://t.co/LPwN76Va38\nI have seen people who agree on the major issues waste hours arguing over details. It's more important to do big th… https://t.co/Rp3ZejziZH\nRT @ValaAfshar: This is how cookie cutters are made https://t.co/Ok53d9cQJe\nThis would be total bullshit and crossing a line. \nThe mom's are off-limits @jack https://t.co/ZjxRG8ByAk\n"
     ]
    }
   ],
   "source": [
    "for tweet in public_tweets:\n",
    "    print(tweet.text)"
   ]
  },
  {
   "cell_type": "code",
   "execution_count": 10,
   "metadata": {},
   "outputs": [
    {
     "output_type": "stream",
     "name": "stdout",
     "text": [
      "User(_api=<tweepy.api.API object at 0x7fafc8208910>, _json={'id': 346360426, 'id_str': '346360426', 'name': 'Valentin', 'screen_name': 'wannabegroncho', 'location': 'New Jersey, USA', 'profile_location': None, 'description': 'Art, Humor, Science, Nudity - Saturated Fat Enjoyer', 'url': 'https://t.co/eEQd9X5m5a', 'entities': {'url': {'urls': [{'url': 'https://t.co/eEQd9X5m5a', 'expanded_url': 'http://tinoargentino.substack.com', 'display_url': 'tinoargentino.substack.com', 'indices': [0, 23]}]}, 'description': {'urls': []}}, 'protected': False, 'followers_count': 606, 'friends_count': 2654, 'listed_count': 6, 'created_at': 'Mon Aug 01 04:15:32 +0000 2011', 'favourites_count': 67308, 'utc_offset': None, 'time_zone': None, 'geo_enabled': True, 'verified': False, 'statuses_count': 20193, 'lang': None, 'status': {'created_at': 'Sat Feb 20 13:41:03 +0000 2021', 'id': 1363121492037369860, 'id_str': '1363121492037369860', 'text': '@Saurya Jaja', 'truncated': False, 'entities': {'hashtags': [], 'symbols': [], 'user_mentions': [{'screen_name': 'Saurya', 'name': 'Saurya / మొలోక్దాస', 'id': 350607721, 'id_str': '350607721', 'indices': [0, 7]}], 'urls': []}, 'source': '<a href=\"http://twitter.com/download/iphone\" rel=\"nofollow\">Twitter for iPhone</a>', 'in_reply_to_status_id': 1363030868151783425, 'in_reply_to_status_id_str': '1363030868151783425', 'in_reply_to_user_id': 350607721, 'in_reply_to_user_id_str': '350607721', 'in_reply_to_screen_name': 'Saurya', 'geo': None, 'coordinates': None, 'place': None, 'contributors': None, 'is_quote_status': False, 'retweet_count': 0, 'favorite_count': 2, 'favorited': False, 'retweeted': False, 'lang': 'es'}, 'contributors_enabled': False, 'is_translator': False, 'is_translation_enabled': False, 'profile_background_color': 'C0DEED', 'profile_background_image_url': 'http://abs.twimg.com/images/themes/theme1/bg.png', 'profile_background_image_url_https': 'https://abs.twimg.com/images/themes/theme1/bg.png', 'profile_background_tile': True, 'profile_image_url': 'http://pbs.twimg.com/profile_images/1345193846465032198/Ak7mB4Ji_normal.jpg', 'profile_image_url_https': 'https://pbs.twimg.com/profile_images/1345193846465032198/Ak7mB4Ji_normal.jpg', 'profile_banner_url': 'https://pbs.twimg.com/profile_banners/346360426/1557348658', 'profile_link_color': '0084B4', 'profile_sidebar_border_color': 'FFFFFF', 'profile_sidebar_fill_color': 'DDEEF6', 'profile_text_color': '333333', 'profile_use_background_image': True, 'has_extended_profile': True, 'default_profile': False, 'default_profile_image': False, 'following': False, 'follow_request_sent': False, 'notifications': False, 'translator_type': 'none', 'suspended': False, 'needs_phone_verification': False}, id=346360426, id_str='346360426', name='Valentin', screen_name='wannabegroncho', location='New Jersey, USA', profile_location=None, description='Art, Humor, Science, Nudity - Saturated Fat Enjoyer', url='https://t.co/eEQd9X5m5a', entities={'url': {'urls': [{'url': 'https://t.co/eEQd9X5m5a', 'expanded_url': 'http://tinoargentino.substack.com', 'display_url': 'tinoargentino.substack.com', 'indices': [0, 23]}]}, 'description': {'urls': []}}, protected=False, followers_count=606, friends_count=2654, listed_count=6, created_at=datetime.datetime(2011, 8, 1, 4, 15, 32), favourites_count=67308, utc_offset=None, time_zone=None, geo_enabled=True, verified=False, statuses_count=20193, lang=None, status=Status(_api=<tweepy.api.API object at 0x7fafc8208910>, _json={'created_at': 'Sat Feb 20 13:41:03 +0000 2021', 'id': 1363121492037369860, 'id_str': '1363121492037369860', 'text': '@Saurya Jaja', 'truncated': False, 'entities': {'hashtags': [], 'symbols': [], 'user_mentions': [{'screen_name': 'Saurya', 'name': 'Saurya / మొలోక్దాస', 'id': 350607721, 'id_str': '350607721', 'indices': [0, 7]}], 'urls': []}, 'source': '<a href=\"http://twitter.com/download/iphone\" rel=\"nofollow\">Twitter for iPhone</a>', 'in_reply_to_status_id': 1363030868151783425, 'in_reply_to_status_id_str': '1363030868151783425', 'in_reply_to_user_id': 350607721, 'in_reply_to_user_id_str': '350607721', 'in_reply_to_screen_name': 'Saurya', 'geo': None, 'coordinates': None, 'place': None, 'contributors': None, 'is_quote_status': False, 'retweet_count': 0, 'favorite_count': 2, 'favorited': False, 'retweeted': False, 'lang': 'es'}, created_at=datetime.datetime(2021, 2, 20, 13, 41, 3), id=1363121492037369860, id_str='1363121492037369860', text='@Saurya Jaja', truncated=False, entities={'hashtags': [], 'symbols': [], 'user_mentions': [{'screen_name': 'Saurya', 'name': 'Saurya / మొలోక్దాస', 'id': 350607721, 'id_str': '350607721', 'indices': [0, 7]}], 'urls': []}, source='Twitter for iPhone', source_url='http://twitter.com/download/iphone', in_reply_to_status_id=1363030868151783425, in_reply_to_status_id_str='1363030868151783425', in_reply_to_user_id=350607721, in_reply_to_user_id_str='350607721', in_reply_to_screen_name='Saurya', geo=None, coordinates=None, place=None, contributors=None, is_quote_status=False, retweet_count=0, favorite_count=2, favorited=False, retweeted=False, lang='es'), contributors_enabled=False, is_translator=False, is_translation_enabled=False, profile_background_color='C0DEED', profile_background_image_url='http://abs.twimg.com/images/themes/theme1/bg.png', profile_background_image_url_https='https://abs.twimg.com/images/themes/theme1/bg.png', profile_background_tile=True, profile_image_url='http://pbs.twimg.com/profile_images/1345193846465032198/Ak7mB4Ji_normal.jpg', profile_image_url_https='https://pbs.twimg.com/profile_images/1345193846465032198/Ak7mB4Ji_normal.jpg', profile_banner_url='https://pbs.twimg.com/profile_banners/346360426/1557348658', profile_link_color='0084B4', profile_sidebar_border_color='FFFFFF', profile_sidebar_fill_color='DDEEF6', profile_text_color='333333', profile_use_background_image=True, has_extended_profile=True, default_profile=False, default_profile_image=False, following=False, follow_request_sent=False, notifications=False, translator_type='none', suspended=False, needs_phone_verification=False)\n"
     ]
    }
   ],
   "source": [
    "user = api.get_user('wannabegroncho')\n",
    "print(user)"
   ]
  },
  {
   "cell_type": "code",
   "execution_count": 5,
   "metadata": {},
   "outputs": [
    {
     "output_type": "error",
     "ename": "TypeError",
     "evalue": "'User' object is not subscriptable",
     "traceback": [
      "\u001b[0;31m---------------------------------------------------------------------------\u001b[0m",
      "\u001b[0;31mTypeError\u001b[0m                                 Traceback (most recent call last)",
      "\u001b[0;32m<ipython-input-5-d0da586bcd47>\u001b[0m in \u001b[0;36m<module>\u001b[0;34m\u001b[0m\n\u001b[0;32m----> 1\u001b[0;31m \u001b[0muser\u001b[0m\u001b[0;34m[\u001b[0m\u001b[0;36m0\u001b[0m\u001b[0;34m]\u001b[0m\u001b[0;34m\u001b[0m\u001b[0;34m\u001b[0m\u001b[0m\n\u001b[0m",
      "\u001b[0;31mTypeError\u001b[0m: 'User' object is not subscriptable"
     ]
    }
   ],
   "source": []
  },
  {
   "cell_type": "code",
   "execution_count": 12,
   "metadata": {},
   "outputs": [
    {
     "output_type": "execute_result",
     "data": {
      "text/plain": [
       "'wannabegroncho'"
      ]
     },
     "metadata": {},
     "execution_count": 12
    }
   ],
   "source": [
    "user.screen_name"
   ]
  },
  {
   "cell_type": "code",
   "execution_count": 11,
   "metadata": {},
   "outputs": [
    {
     "output_type": "stream",
     "name": "stdout",
     "text": [
      "WholeMarsBlog\nNonFungiblePepe\nSigmaJrewg\ndumbnar\nlamotrigino\nSurreal_Motion\nanomarizka\npdavison\nnair_rohit98\njs_horne\nourZORA\nTheDavidZhou\njzlegion\nGaius_Ju_Caesar\nGwendolynKansen\nTim_Put\nJackMallers\nCathieDWood\nrealJohn_Taylor\nwilllowthewhisp\n"
     ]
    }
   ],
   "source": [
    "for friend in user.friends():\n",
    "   print(friend.screen_name)"
   ]
  },
  {
   "cell_type": "code",
   "execution_count": 13,
   "metadata": {},
   "outputs": [
    {
     "output_type": "execute_result",
     "data": {
      "text/plain": [
       "User(_api=<tweepy.api.API object at 0x7fafc8208910>, _json={'id': 1263491240336769026, 'id_str': '1263491240336769026', 'name': 'Whole Mars Catalog', 'screen_name': 'WholeMarsBlog', 'location': '🇺🇸', 'description': 'part 24 hour EV news channel / part shitty stand up comedy routine. unofficial fan account. comedy commentary fan parody', 'url': 'https://t.co/af8UuUKFPQ', 'entities': {'url': {'urls': [{'url': 'https://t.co/af8UuUKFPQ', 'expanded_url': 'http://wholemars.net', 'display_url': 'wholemars.net', 'indices': [0, 23]}]}, 'description': {'urls': []}}, 'protected': False, 'followers_count': 18962, 'friends_count': 5558, 'listed_count': 147, 'created_at': 'Thu May 21 15:26:16 +0000 2020', 'favourites_count': 118317, 'utc_offset': None, 'time_zone': None, 'geo_enabled': True, 'verified': False, 'statuses_count': 79666, 'lang': None, 'status': {'created_at': 'Sat Feb 20 14:01:32 +0000 2021', 'id': 1363126645037486083, 'id_str': '1363126645037486083', 'text': '@Plunk20 yes', 'truncated': False, 'entities': {'hashtags': [], 'symbols': [], 'user_mentions': [{'screen_name': 'Plunk20', 'name': 'Mike Plunkett', 'id': 48779126, 'id_str': '48779126', 'indices': [0, 8]}], 'urls': []}, 'source': '<a href=\"http://twitter.com/download/iphone\" rel=\"nofollow\">Twitter for iPhone</a>', 'in_reply_to_status_id': 1363126600171196417, 'in_reply_to_status_id_str': '1363126600171196417', 'in_reply_to_user_id': 48779126, 'in_reply_to_user_id_str': '48779126', 'in_reply_to_screen_name': 'Plunk20', 'geo': None, 'coordinates': None, 'place': None, 'contributors': None, 'is_quote_status': False, 'retweet_count': 0, 'favorite_count': 1, 'favorited': False, 'retweeted': False, 'lang': 'und'}, 'contributors_enabled': False, 'is_translator': False, 'is_translation_enabled': False, 'profile_background_color': 'F5F8FA', 'profile_background_image_url': None, 'profile_background_image_url_https': None, 'profile_background_tile': False, 'profile_image_url': 'http://pbs.twimg.com/profile_images/1297596222354554880/Z14EA2fX_normal.jpg', 'profile_image_url_https': 'https://pbs.twimg.com/profile_images/1297596222354554880/Z14EA2fX_normal.jpg', 'profile_banner_url': 'https://pbs.twimg.com/profile_banners/1263491240336769026/1612905598', 'profile_link_color': '1DA1F2', 'profile_sidebar_border_color': 'C0DEED', 'profile_sidebar_fill_color': 'DDEEF6', 'profile_text_color': '333333', 'profile_use_background_image': True, 'has_extended_profile': True, 'default_profile': True, 'default_profile_image': False, 'following': True, 'live_following': False, 'follow_request_sent': False, 'notifications': False, 'muting': False, 'blocking': False, 'blocked_by': False, 'translator_type': 'none'}, id=1263491240336769026, id_str='1263491240336769026', name='Whole Mars Catalog', screen_name='WholeMarsBlog', location='🇺🇸', description='part 24 hour EV news channel / part shitty stand up comedy routine. unofficial fan account. comedy commentary fan parody', url='https://t.co/af8UuUKFPQ', entities={'url': {'urls': [{'url': 'https://t.co/af8UuUKFPQ', 'expanded_url': 'http://wholemars.net', 'display_url': 'wholemars.net', 'indices': [0, 23]}]}, 'description': {'urls': []}}, protected=False, followers_count=18962, friends_count=5558, listed_count=147, created_at=datetime.datetime(2020, 5, 21, 15, 26, 16), favourites_count=118317, utc_offset=None, time_zone=None, geo_enabled=True, verified=False, statuses_count=79666, lang=None, status=Status(_api=<tweepy.api.API object at 0x7fafc8208910>, _json={'created_at': 'Sat Feb 20 14:01:32 +0000 2021', 'id': 1363126645037486083, 'id_str': '1363126645037486083', 'text': '@Plunk20 yes', 'truncated': False, 'entities': {'hashtags': [], 'symbols': [], 'user_mentions': [{'screen_name': 'Plunk20', 'name': 'Mike Plunkett', 'id': 48779126, 'id_str': '48779126', 'indices': [0, 8]}], 'urls': []}, 'source': '<a href=\"http://twitter.com/download/iphone\" rel=\"nofollow\">Twitter for iPhone</a>', 'in_reply_to_status_id': 1363126600171196417, 'in_reply_to_status_id_str': '1363126600171196417', 'in_reply_to_user_id': 48779126, 'in_reply_to_user_id_str': '48779126', 'in_reply_to_screen_name': 'Plunk20', 'geo': None, 'coordinates': None, 'place': None, 'contributors': None, 'is_quote_status': False, 'retweet_count': 0, 'favorite_count': 1, 'favorited': False, 'retweeted': False, 'lang': 'und'}, created_at=datetime.datetime(2021, 2, 20, 14, 1, 32), id=1363126645037486083, id_str='1363126645037486083', text='@Plunk20 yes', truncated=False, entities={'hashtags': [], 'symbols': [], 'user_mentions': [{'screen_name': 'Plunk20', 'name': 'Mike Plunkett', 'id': 48779126, 'id_str': '48779126', 'indices': [0, 8]}], 'urls': []}, source='Twitter for iPhone', source_url='http://twitter.com/download/iphone', in_reply_to_status_id=1363126600171196417, in_reply_to_status_id_str='1363126600171196417', in_reply_to_user_id=48779126, in_reply_to_user_id_str='48779126', in_reply_to_screen_name='Plunk20', geo=None, coordinates=None, place=None, contributors=None, is_quote_status=False, retweet_count=0, favorite_count=1, favorited=False, retweeted=False, lang='und'), contributors_enabled=False, is_translator=False, is_translation_enabled=False, profile_background_color='F5F8FA', profile_background_image_url=None, profile_background_image_url_https=None, profile_background_tile=False, profile_image_url='http://pbs.twimg.com/profile_images/1297596222354554880/Z14EA2fX_normal.jpg', profile_image_url_https='https://pbs.twimg.com/profile_images/1297596222354554880/Z14EA2fX_normal.jpg', profile_banner_url='https://pbs.twimg.com/profile_banners/1263491240336769026/1612905598', profile_link_color='1DA1F2', profile_sidebar_border_color='C0DEED', profile_sidebar_fill_color='DDEEF6', profile_text_color='333333', profile_use_background_image=True, has_extended_profile=True, default_profile=True, default_profile_image=False, following=True, live_following=False, follow_request_sent=False, notifications=False, muting=False, blocking=False, blocked_by=False, translator_type='none')"
      ]
     },
     "metadata": {},
     "execution_count": 13
    }
   ],
   "source": [
    "user.friends()[0]"
   ]
  },
  {
   "cell_type": "code",
   "execution_count": 15,
   "metadata": {},
   "outputs": [
    {
     "output_type": "execute_result",
     "data": {
      "text/plain": [
       "User(_api=<tweepy.api.API object at 0x7fafc8208910>, _json={'id': 346360426, 'id_str': '346360426', 'name': 'Valentin', 'screen_name': 'wannabegroncho', 'location': 'New Jersey, USA', 'profile_location': None, 'description': 'Art, Humor, Science, Nudity - Saturated Fat Enjoyer', 'url': 'https://t.co/eEQd9X5m5a', 'entities': {'url': {'urls': [{'url': 'https://t.co/eEQd9X5m5a', 'expanded_url': 'http://tinoargentino.substack.com', 'display_url': 'tinoargentino.substack.com', 'indices': [0, 23]}]}, 'description': {'urls': []}}, 'protected': False, 'followers_count': 605, 'friends_count': 2652, 'listed_count': 6, 'created_at': 'Mon Aug 01 04:15:32 +0000 2011', 'favourites_count': 67303, 'utc_offset': None, 'time_zone': None, 'geo_enabled': True, 'verified': False, 'statuses_count': 20193, 'lang': None, 'status': {'created_at': 'Sat Feb 20 13:41:03 +0000 2021', 'id': 1363121492037369860, 'id_str': '1363121492037369860', 'text': '@Saurya Jaja', 'truncated': False, 'entities': {'hashtags': [], 'symbols': [], 'user_mentions': [{'screen_name': 'Saurya', 'name': 'Saurya / మొలోక్దాస', 'id': 350607721, 'id_str': '350607721', 'indices': [0, 7]}], 'urls': []}, 'source': '<a href=\"http://twitter.com/download/iphone\" rel=\"nofollow\">Twitter for iPhone</a>', 'in_reply_to_status_id': 1363030868151783425, 'in_reply_to_status_id_str': '1363030868151783425', 'in_reply_to_user_id': 350607721, 'in_reply_to_user_id_str': '350607721', 'in_reply_to_screen_name': 'Saurya', 'geo': None, 'coordinates': None, 'place': None, 'contributors': None, 'is_quote_status': False, 'retweet_count': 0, 'favorite_count': 2, 'favorited': False, 'retweeted': False, 'lang': 'es'}, 'contributors_enabled': False, 'is_translator': False, 'is_translation_enabled': False, 'profile_background_color': 'C0DEED', 'profile_background_image_url': 'http://abs.twimg.com/images/themes/theme1/bg.png', 'profile_background_image_url_https': 'https://abs.twimg.com/images/themes/theme1/bg.png', 'profile_background_tile': True, 'profile_image_url': 'http://pbs.twimg.com/profile_images/1345193846465032198/Ak7mB4Ji_normal.jpg', 'profile_image_url_https': 'https://pbs.twimg.com/profile_images/1345193846465032198/Ak7mB4Ji_normal.jpg', 'profile_banner_url': 'https://pbs.twimg.com/profile_banners/346360426/1557348658', 'profile_link_color': '0084B4', 'profile_sidebar_border_color': 'FFFFFF', 'profile_sidebar_fill_color': 'DDEEF6', 'profile_text_color': '333333', 'profile_use_background_image': True, 'has_extended_profile': True, 'default_profile': False, 'default_profile_image': False, 'following': False, 'follow_request_sent': False, 'notifications': False, 'translator_type': 'none', 'suspended': False, 'needs_phone_verification': False}, id=346360426, id_str='346360426', name='Valentin', screen_name='wannabegroncho', location='New Jersey, USA', profile_location=None, description='Art, Humor, Science, Nudity - Saturated Fat Enjoyer', url='https://t.co/eEQd9X5m5a', entities={'url': {'urls': [{'url': 'https://t.co/eEQd9X5m5a', 'expanded_url': 'http://tinoargentino.substack.com', 'display_url': 'tinoargentino.substack.com', 'indices': [0, 23]}]}, 'description': {'urls': []}}, protected=False, followers_count=605, friends_count=2652, listed_count=6, created_at=datetime.datetime(2011, 8, 1, 4, 15, 32), favourites_count=67303, utc_offset=None, time_zone=None, geo_enabled=True, verified=False, statuses_count=20193, lang=None, status=Status(_api=<tweepy.api.API object at 0x7fafc8208910>, _json={'created_at': 'Sat Feb 20 13:41:03 +0000 2021', 'id': 1363121492037369860, 'id_str': '1363121492037369860', 'text': '@Saurya Jaja', 'truncated': False, 'entities': {'hashtags': [], 'symbols': [], 'user_mentions': [{'screen_name': 'Saurya', 'name': 'Saurya / మొలోక్దాస', 'id': 350607721, 'id_str': '350607721', 'indices': [0, 7]}], 'urls': []}, 'source': '<a href=\"http://twitter.com/download/iphone\" rel=\"nofollow\">Twitter for iPhone</a>', 'in_reply_to_status_id': 1363030868151783425, 'in_reply_to_status_id_str': '1363030868151783425', 'in_reply_to_user_id': 350607721, 'in_reply_to_user_id_str': '350607721', 'in_reply_to_screen_name': 'Saurya', 'geo': None, 'coordinates': None, 'place': None, 'contributors': None, 'is_quote_status': False, 'retweet_count': 0, 'favorite_count': 2, 'favorited': False, 'retweeted': False, 'lang': 'es'}, created_at=datetime.datetime(2021, 2, 20, 13, 41, 3), id=1363121492037369860, id_str='1363121492037369860', text='@Saurya Jaja', truncated=False, entities={'hashtags': [], 'symbols': [], 'user_mentions': [{'screen_name': 'Saurya', 'name': 'Saurya / మొలోక్దాస', 'id': 350607721, 'id_str': '350607721', 'indices': [0, 7]}], 'urls': []}, source='Twitter for iPhone', source_url='http://twitter.com/download/iphone', in_reply_to_status_id=1363030868151783425, in_reply_to_status_id_str='1363030868151783425', in_reply_to_user_id=350607721, in_reply_to_user_id_str='350607721', in_reply_to_screen_name='Saurya', geo=None, coordinates=None, place=None, contributors=None, is_quote_status=False, retweet_count=0, favorite_count=2, favorited=False, retweeted=False, lang='es'), contributors_enabled=False, is_translator=False, is_translation_enabled=False, profile_background_color='C0DEED', profile_background_image_url='http://abs.twimg.com/images/themes/theme1/bg.png', profile_background_image_url_https='https://abs.twimg.com/images/themes/theme1/bg.png', profile_background_tile=True, profile_image_url='http://pbs.twimg.com/profile_images/1345193846465032198/Ak7mB4Ji_normal.jpg', profile_image_url_https='https://pbs.twimg.com/profile_images/1345193846465032198/Ak7mB4Ji_normal.jpg', profile_banner_url='https://pbs.twimg.com/profile_banners/346360426/1557348658', profile_link_color='0084B4', profile_sidebar_border_color='FFFFFF', profile_sidebar_fill_color='DDEEF6', profile_text_color='333333', profile_use_background_image=True, has_extended_profile=True, default_profile=False, default_profile_image=False, following=False, follow_request_sent=False, notifications=False, translator_type='none', suspended=False, needs_phone_verification=False)"
      ]
     },
     "metadata": {},
     "execution_count": 15
    }
   ],
   "source": [
    "api.me()"
   ]
  },
  {
   "cell_type": "code",
   "execution_count": 29,
   "metadata": {},
   "outputs": [
    {
     "output_type": "execute_result",
     "data": {
      "text/plain": [
       "1363121492037369860"
      ]
     },
     "metadata": {},
     "execution_count": 29
    }
   ],
   "source": [
    "api.me().status._json['id']"
   ]
  },
  {
   "cell_type": "code",
   "execution_count": 25,
   "metadata": {},
   "outputs": [
    {
     "output_type": "execute_result",
     "data": {
      "text/plain": [
       "1263491240336769026"
      ]
     },
     "metadata": {},
     "execution_count": 25
    }
   ],
   "source": [
    "user.friends()[0]._json['id']"
   ]
  },
  {
   "cell_type": "code",
   "execution_count": 22,
   "metadata": {},
   "outputs": [
    {
     "output_type": "execute_result",
     "data": {
      "text/plain": [
       "{'id': 1263491240336769026,\n",
       " 'id_str': '1263491240336769026',\n",
       " 'name': 'Whole Mars Catalog',\n",
       " 'screen_name': 'WholeMarsBlog',\n",
       " 'location': '🇺🇸',\n",
       " 'description': 'part 24 hour EV news channel / part shitty stand up comedy routine. unofficial fan account. comedy commentary fan parody',\n",
       " 'url': 'https://t.co/af8UuUKFPQ',\n",
       " 'entities': {'url': {'urls': [{'url': 'https://t.co/af8UuUKFPQ',\n",
       "     'expanded_url': 'http://wholemars.net',\n",
       "     'display_url': 'wholemars.net',\n",
       "     'indices': [0, 23]}]},\n",
       "  'description': {'urls': []}},\n",
       " 'protected': False,\n",
       " 'followers_count': 18964,\n",
       " 'friends_count': 5558,\n",
       " 'listed_count': 147,\n",
       " 'created_at': 'Thu May 21 15:26:16 +0000 2020',\n",
       " 'favourites_count': 118317,\n",
       " 'utc_offset': None,\n",
       " 'time_zone': None,\n",
       " 'geo_enabled': True,\n",
       " 'verified': False,\n",
       " 'statuses_count': 79666,\n",
       " 'lang': None,\n",
       " 'status': {'created_at': 'Sat Feb 20 14:01:32 +0000 2021',\n",
       "  'id': 1363126645037486083,\n",
       "  'id_str': '1363126645037486083',\n",
       "  'text': '@Plunk20 yes',\n",
       "  'truncated': False,\n",
       "  'entities': {'hashtags': [],\n",
       "   'symbols': [],\n",
       "   'user_mentions': [{'screen_name': 'Plunk20',\n",
       "     'name': 'Mike Plunkett',\n",
       "     'id': 48779126,\n",
       "     'id_str': '48779126',\n",
       "     'indices': [0, 8]}],\n",
       "   'urls': []},\n",
       "  'source': '<a href=\"http://twitter.com/download/iphone\" rel=\"nofollow\">Twitter for iPhone</a>',\n",
       "  'in_reply_to_status_id': 1363126600171196417,\n",
       "  'in_reply_to_status_id_str': '1363126600171196417',\n",
       "  'in_reply_to_user_id': 48779126,\n",
       "  'in_reply_to_user_id_str': '48779126',\n",
       "  'in_reply_to_screen_name': 'Plunk20',\n",
       "  'geo': None,\n",
       "  'coordinates': None,\n",
       "  'place': None,\n",
       "  'contributors': None,\n",
       "  'is_quote_status': False,\n",
       "  'retweet_count': 0,\n",
       "  'favorite_count': 1,\n",
       "  'favorited': False,\n",
       "  'retweeted': False,\n",
       "  'lang': 'und'},\n",
       " 'contributors_enabled': False,\n",
       " 'is_translator': False,\n",
       " 'is_translation_enabled': False,\n",
       " 'profile_background_color': 'F5F8FA',\n",
       " 'profile_background_image_url': None,\n",
       " 'profile_background_image_url_https': None,\n",
       " 'profile_background_tile': False,\n",
       " 'profile_image_url': 'http://pbs.twimg.com/profile_images/1297596222354554880/Z14EA2fX_normal.jpg',\n",
       " 'profile_image_url_https': 'https://pbs.twimg.com/profile_images/1297596222354554880/Z14EA2fX_normal.jpg',\n",
       " 'profile_banner_url': 'https://pbs.twimg.com/profile_banners/1263491240336769026/1612905598',\n",
       " 'profile_link_color': '1DA1F2',\n",
       " 'profile_sidebar_border_color': 'C0DEED',\n",
       " 'profile_sidebar_fill_color': 'DDEEF6',\n",
       " 'profile_text_color': '333333',\n",
       " 'profile_use_background_image': True,\n",
       " 'has_extended_profile': True,\n",
       " 'default_profile': True,\n",
       " 'default_profile_image': False,\n",
       " 'following': True,\n",
       " 'live_following': False,\n",
       " 'follow_request_sent': False,\n",
       " 'notifications': False,\n",
       " 'muting': False,\n",
       " 'blocking': False,\n",
       " 'blocked_by': False,\n",
       " 'translator_type': 'none'}"
      ]
     },
     "metadata": {},
     "execution_count": 22
    }
   ],
   "source": [
    "user.friends()[0]._json"
   ]
  },
  {
   "cell_type": "code",
   "execution_count": 33,
   "metadata": {},
   "outputs": [
    {
     "output_type": "error",
     "ename": "TweepError",
     "evalue": "[{'code': 163, 'message': 'Could not determine source user.'}]",
     "traceback": [
      "\u001b[0;31m---------------------------------------------------------------------------\u001b[0m",
      "\u001b[0;31mTweepError\u001b[0m                                Traceback (most recent call last)",
      "\u001b[0;32m<ipython-input-33-94a17948faeb>\u001b[0m in \u001b[0;36m<module>\u001b[0;34m\u001b[0m\n\u001b[0;32m----> 1\u001b[0;31m \u001b[0mapi\u001b[0m\u001b[0;34m.\u001b[0m\u001b[0mshow_friendship\u001b[0m\u001b[0;34m(\u001b[0m\u001b[0msource_id\u001b[0m\u001b[0;34m=\u001b[0m\u001b[0mapi\u001b[0m\u001b[0;34m.\u001b[0m\u001b[0mme\u001b[0m\u001b[0;34m(\u001b[0m\u001b[0;34m)\u001b[0m\u001b[0;34m.\u001b[0m\u001b[0mstatus\u001b[0m\u001b[0;34m.\u001b[0m\u001b[0m_json\u001b[0m\u001b[0;34m[\u001b[0m\u001b[0;34m'id'\u001b[0m\u001b[0;34m]\u001b[0m\u001b[0;34m,\u001b[0m\u001b[0mtarget_id\u001b[0m\u001b[0;34m=\u001b[0m\u001b[0muser\u001b[0m\u001b[0;34m.\u001b[0m\u001b[0mfriends\u001b[0m\u001b[0;34m(\u001b[0m\u001b[0;34m)\u001b[0m\u001b[0;34m[\u001b[0m\u001b[0;36m0\u001b[0m\u001b[0;34m]\u001b[0m\u001b[0;34m.\u001b[0m\u001b[0m_json\u001b[0m\u001b[0;34m[\u001b[0m\u001b[0;34m'id'\u001b[0m\u001b[0;34m]\u001b[0m\u001b[0;34m)\u001b[0m\u001b[0;34m\u001b[0m\u001b[0;34m\u001b[0m\u001b[0m\n\u001b[0m",
      "\u001b[0;32m~/Documents/PROGRAMACION/PYTHON/TwitterAPI/env/lib/python3.8/site-packages/tweepy/binder.py\u001b[0m in \u001b[0;36m_call\u001b[0;34m(*args, **kwargs)\u001b[0m\n\u001b[1;32m    251\u001b[0m                 \u001b[0;32mreturn\u001b[0m \u001b[0mmethod\u001b[0m\u001b[0;34m\u001b[0m\u001b[0;34m\u001b[0m\u001b[0m\n\u001b[1;32m    252\u001b[0m             \u001b[0;32melse\u001b[0m\u001b[0;34m:\u001b[0m\u001b[0;34m\u001b[0m\u001b[0;34m\u001b[0m\u001b[0m\n\u001b[0;32m--> 253\u001b[0;31m                 \u001b[0;32mreturn\u001b[0m \u001b[0mmethod\u001b[0m\u001b[0;34m.\u001b[0m\u001b[0mexecute\u001b[0m\u001b[0;34m(\u001b[0m\u001b[0;34m)\u001b[0m\u001b[0;34m\u001b[0m\u001b[0;34m\u001b[0m\u001b[0m\n\u001b[0m\u001b[1;32m    254\u001b[0m         \u001b[0;32mfinally\u001b[0m\u001b[0;34m:\u001b[0m\u001b[0;34m\u001b[0m\u001b[0;34m\u001b[0m\u001b[0m\n\u001b[1;32m    255\u001b[0m             \u001b[0mmethod\u001b[0m\u001b[0;34m.\u001b[0m\u001b[0msession\u001b[0m\u001b[0;34m.\u001b[0m\u001b[0mclose\u001b[0m\u001b[0;34m(\u001b[0m\u001b[0;34m)\u001b[0m\u001b[0;34m\u001b[0m\u001b[0;34m\u001b[0m\u001b[0m\n",
      "\u001b[0;32m~/Documents/PROGRAMACION/PYTHON/TwitterAPI/env/lib/python3.8/site-packages/tweepy/binder.py\u001b[0m in \u001b[0;36mexecute\u001b[0;34m(self)\u001b[0m\n\u001b[1;32m    232\u001b[0m                     \u001b[0;32mraise\u001b[0m \u001b[0mRateLimitError\u001b[0m\u001b[0;34m(\u001b[0m\u001b[0merror_msg\u001b[0m\u001b[0;34m,\u001b[0m \u001b[0mresp\u001b[0m\u001b[0;34m)\u001b[0m\u001b[0;34m\u001b[0m\u001b[0;34m\u001b[0m\u001b[0m\n\u001b[1;32m    233\u001b[0m                 \u001b[0;32melse\u001b[0m\u001b[0;34m:\u001b[0m\u001b[0;34m\u001b[0m\u001b[0;34m\u001b[0m\u001b[0m\n\u001b[0;32m--> 234\u001b[0;31m                     \u001b[0;32mraise\u001b[0m \u001b[0mTweepError\u001b[0m\u001b[0;34m(\u001b[0m\u001b[0merror_msg\u001b[0m\u001b[0;34m,\u001b[0m \u001b[0mresp\u001b[0m\u001b[0;34m,\u001b[0m \u001b[0mapi_code\u001b[0m\u001b[0;34m=\u001b[0m\u001b[0mapi_error_code\u001b[0m\u001b[0;34m)\u001b[0m\u001b[0;34m\u001b[0m\u001b[0;34m\u001b[0m\u001b[0m\n\u001b[0m\u001b[1;32m    235\u001b[0m \u001b[0;34m\u001b[0m\u001b[0m\n\u001b[1;32m    236\u001b[0m             \u001b[0;31m# Parse the response payload\u001b[0m\u001b[0;34m\u001b[0m\u001b[0;34m\u001b[0m\u001b[0;34m\u001b[0m\u001b[0m\n",
      "\u001b[0;31mTweepError\u001b[0m: [{'code': 163, 'message': 'Could not determine source user.'}]"
     ]
    }
   ],
   "source": [
    "api.show_friendship(source_id=api.me().status._json['id'],target_id=user.friends()[0]._json['id'])"
   ]
  },
  {
   "cell_type": "code",
   "execution_count": 31,
   "metadata": {},
   "outputs": [
    {
     "output_type": "execute_result",
     "data": {
      "text/plain": [
       "1363121492037369860"
      ]
     },
     "metadata": {},
     "execution_count": 31
    }
   ],
   "source": [
    "api.me().status._json['id']"
   ]
  },
  {
   "cell_type": "code",
   "execution_count": 32,
   "metadata": {},
   "outputs": [
    {
     "output_type": "execute_result",
     "data": {
      "text/plain": [
       "1263491240336769026"
      ]
     },
     "metadata": {},
     "execution_count": 32
    }
   ],
   "source": [
    "user.friends()[0]._json['id']"
   ]
  },
  {
   "cell_type": "code",
   "execution_count": null,
   "metadata": {},
   "outputs": [],
   "source": [
    "api.show_friendship(source_id=api.me().status._json['id'],)target_id=user.friends()[0]._json['id']"
   ]
  },
  {
   "cell_type": "code",
   "execution_count": 36,
   "metadata": {},
   "outputs": [
    {
     "output_type": "execute_result",
     "data": {
      "text/plain": [
       "1363121492037369860"
      ]
     },
     "metadata": {},
     "execution_count": 36
    }
   ],
   "source": [
    "source_id=api.me().status._json['id']\n",
    "source_id"
   ]
  },
  {
   "cell_type": "code",
   "execution_count": 37,
   "metadata": {},
   "outputs": [
    {
     "output_type": "execute_result",
     "data": {
      "text/plain": [
       "1263491240336769026"
      ]
     },
     "metadata": {},
     "execution_count": 37
    }
   ],
   "source": [
    "target_id=user.friends()[0]._json['id']\n",
    "target_id"
   ]
  },
  {
   "cell_type": "code",
   "execution_count": 38,
   "metadata": {},
   "outputs": [
    {
     "output_type": "error",
     "ename": "TweepError",
     "evalue": "[{'code': 163, 'message': 'Could not determine source user.'}]",
     "traceback": [
      "\u001b[0;31m---------------------------------------------------------------------------\u001b[0m",
      "\u001b[0;31mTweepError\u001b[0m                                Traceback (most recent call last)",
      "\u001b[0;32m<ipython-input-38-197faf329842>\u001b[0m in \u001b[0;36m<module>\u001b[0;34m\u001b[0m\n\u001b[0;32m----> 1\u001b[0;31m \u001b[0mapi\u001b[0m\u001b[0;34m.\u001b[0m\u001b[0mshow_friendship\u001b[0m\u001b[0;34m(\u001b[0m\u001b[0msource_id\u001b[0m\u001b[0;34m=\u001b[0m\u001b[0msource_id\u001b[0m\u001b[0;34m,\u001b[0m\u001b[0mtarget_id\u001b[0m\u001b[0;34m=\u001b[0m\u001b[0mtarget_id\u001b[0m\u001b[0;34m)\u001b[0m\u001b[0;34m\u001b[0m\u001b[0;34m\u001b[0m\u001b[0m\n\u001b[0m",
      "\u001b[0;32m~/Documents/PROGRAMACION/PYTHON/TwitterAPI/env/lib/python3.8/site-packages/tweepy/binder.py\u001b[0m in \u001b[0;36m_call\u001b[0;34m(*args, **kwargs)\u001b[0m\n\u001b[1;32m    251\u001b[0m                 \u001b[0;32mreturn\u001b[0m \u001b[0mmethod\u001b[0m\u001b[0;34m\u001b[0m\u001b[0;34m\u001b[0m\u001b[0m\n\u001b[1;32m    252\u001b[0m             \u001b[0;32melse\u001b[0m\u001b[0;34m:\u001b[0m\u001b[0;34m\u001b[0m\u001b[0;34m\u001b[0m\u001b[0m\n\u001b[0;32m--> 253\u001b[0;31m                 \u001b[0;32mreturn\u001b[0m \u001b[0mmethod\u001b[0m\u001b[0;34m.\u001b[0m\u001b[0mexecute\u001b[0m\u001b[0;34m(\u001b[0m\u001b[0;34m)\u001b[0m\u001b[0;34m\u001b[0m\u001b[0;34m\u001b[0m\u001b[0m\n\u001b[0m\u001b[1;32m    254\u001b[0m         \u001b[0;32mfinally\u001b[0m\u001b[0;34m:\u001b[0m\u001b[0;34m\u001b[0m\u001b[0;34m\u001b[0m\u001b[0m\n\u001b[1;32m    255\u001b[0m             \u001b[0mmethod\u001b[0m\u001b[0;34m.\u001b[0m\u001b[0msession\u001b[0m\u001b[0;34m.\u001b[0m\u001b[0mclose\u001b[0m\u001b[0;34m(\u001b[0m\u001b[0;34m)\u001b[0m\u001b[0;34m\u001b[0m\u001b[0;34m\u001b[0m\u001b[0m\n",
      "\u001b[0;32m~/Documents/PROGRAMACION/PYTHON/TwitterAPI/env/lib/python3.8/site-packages/tweepy/binder.py\u001b[0m in \u001b[0;36mexecute\u001b[0;34m(self)\u001b[0m\n\u001b[1;32m    232\u001b[0m                     \u001b[0;32mraise\u001b[0m \u001b[0mRateLimitError\u001b[0m\u001b[0;34m(\u001b[0m\u001b[0merror_msg\u001b[0m\u001b[0;34m,\u001b[0m \u001b[0mresp\u001b[0m\u001b[0;34m)\u001b[0m\u001b[0;34m\u001b[0m\u001b[0;34m\u001b[0m\u001b[0m\n\u001b[1;32m    233\u001b[0m                 \u001b[0;32melse\u001b[0m\u001b[0;34m:\u001b[0m\u001b[0;34m\u001b[0m\u001b[0;34m\u001b[0m\u001b[0m\n\u001b[0;32m--> 234\u001b[0;31m                     \u001b[0;32mraise\u001b[0m \u001b[0mTweepError\u001b[0m\u001b[0;34m(\u001b[0m\u001b[0merror_msg\u001b[0m\u001b[0;34m,\u001b[0m \u001b[0mresp\u001b[0m\u001b[0;34m,\u001b[0m \u001b[0mapi_code\u001b[0m\u001b[0;34m=\u001b[0m\u001b[0mapi_error_code\u001b[0m\u001b[0;34m)\u001b[0m\u001b[0;34m\u001b[0m\u001b[0;34m\u001b[0m\u001b[0m\n\u001b[0m\u001b[1;32m    235\u001b[0m \u001b[0;34m\u001b[0m\u001b[0m\n\u001b[1;32m    236\u001b[0m             \u001b[0;31m# Parse the response payload\u001b[0m\u001b[0;34m\u001b[0m\u001b[0;34m\u001b[0m\u001b[0;34m\u001b[0m\u001b[0m\n",
      "\u001b[0;31mTweepError\u001b[0m: [{'code': 163, 'message': 'Could not determine source user.'}]"
     ]
    }
   ],
   "source": [
    "api.show_friendship(source_id=source_id,target_id=target_id)"
   ]
  },
  {
   "cell_type": "code",
   "execution_count": 41,
   "metadata": {},
   "outputs": [
    {
     "output_type": "execute_result",
     "data": {
      "text/plain": [
       "'wannabegroncho'"
      ]
     },
     "metadata": {},
     "execution_count": 41
    }
   ],
   "source": [
    "api.me().screen_name"
   ]
  },
  {
   "cell_type": "code",
   "execution_count": null,
   "metadata": {},
   "outputs": [],
   "source": [
    "api.show_friendship(source_id=source_id,target_id=target_id)"
   ]
  },
  {
   "cell_type": "code",
   "execution_count": 47,
   "metadata": {},
   "outputs": [
    {
     "output_type": "execute_result",
     "data": {
      "text/plain": [
       "'WholeMarsBlog'"
      ]
     },
     "metadata": {},
     "execution_count": 47
    }
   ],
   "source": [
    "source_screen_name = user.friends()[0]._json['screen_name']\n",
    "source_screen_namebe\n"
   ]
  },
  {
   "cell_type": "code",
   "execution_count": 49,
   "metadata": {},
   "outputs": [
    {
     "output_type": "execute_result",
     "data": {
      "text/plain": [
       "'wannabegroncho'"
      ]
     },
     "metadata": {},
     "execution_count": 49
    }
   ],
   "source": [
    " target_screen_name = api.me().screen_name\n",
    " target_screen_name"
   ]
  },
  {
   "cell_type": "code",
   "execution_count": 50,
   "metadata": {},
   "outputs": [
    {
     "output_type": "execute_result",
     "data": {
      "text/plain": [
       "(Friendship(_api=<tweepy.api.API object at 0x7fafc8208910>, _json={'id': 1263491240336769026, 'id_str': '1263491240336769026', 'screen_name': 'WholeMarsBlog', 'following': False, 'followed_by': True, 'live_following': False, 'following_received': None, 'following_requested': None, 'notifications_enabled': None, 'can_dm': True, 'blocking': None, 'blocked_by': None, 'muting': None, 'want_retweets': None, 'all_replies': None, 'marked_spam': None}, id=1263491240336769026, id_str='1263491240336769026', screen_name='WholeMarsBlog', following=False, followed_by=True, live_following=False, following_received=None, following_requested=None, notifications_enabled=None, can_dm=True, blocking=None, blocked_by=None, muting=None, want_retweets=None, all_replies=None, marked_spam=None),\n",
       " Friendship(_api=<tweepy.api.API object at 0x7fafc8208910>, _json={'id': 346360426, 'id_str': '346360426', 'screen_name': 'wannabegroncho', 'following': True, 'followed_by': False, 'following_received': None, 'following_requested': None}, id=346360426, id_str='346360426', screen_name='wannabegroncho', following=True, followed_by=False, following_received=None, following_requested=None))"
      ]
     },
     "metadata": {},
     "execution_count": 50
    }
   ],
   "source": [
    "api.show_friendship(source_screen_name = source_screen_name, target_screen_name = target_screen_name) "
   ]
  },
  {
   "cell_type": "code",
   "execution_count": 53,
   "metadata": {},
   "outputs": [
    {
     "output_type": "error",
     "ename": "RateLimitError",
     "evalue": "[{'message': 'Rate limit exceeded', 'code': 88}]",
     "traceback": [
      "\u001b[0;31m---------------------------------------------------------------------------\u001b[0m",
      "\u001b[0;31mRateLimitError\u001b[0m                            Traceback (most recent call last)",
      "\u001b[0;32m<ipython-input-53-3a007f815dc0>\u001b[0m in \u001b[0;36m<module>\u001b[0;34m\u001b[0m\n\u001b[1;32m      1\u001b[0m \u001b[0mfriends\u001b[0m\u001b[0;34m=\u001b[0m\u001b[0;34m[\u001b[0m\u001b[0;34m]\u001b[0m\u001b[0;34m\u001b[0m\u001b[0;34m\u001b[0m\u001b[0m\n\u001b[0;32m----> 2\u001b[0;31m \u001b[0;32mfor\u001b[0m \u001b[0mfriend\u001b[0m \u001b[0;32min\u001b[0m \u001b[0mtweepy\u001b[0m\u001b[0;34m.\u001b[0m\u001b[0mCursor\u001b[0m\u001b[0;34m(\u001b[0m\u001b[0mapi\u001b[0m\u001b[0;34m.\u001b[0m\u001b[0mfriends\u001b[0m\u001b[0;34m)\u001b[0m\u001b[0;34m.\u001b[0m\u001b[0mitems\u001b[0m\u001b[0;34m(\u001b[0m\u001b[0;34m)\u001b[0m\u001b[0;34m:\u001b[0m\u001b[0;34m\u001b[0m\u001b[0;34m\u001b[0m\u001b[0m\n\u001b[0m\u001b[1;32m      3\u001b[0m     \u001b[0;31m# Process the friend here\u001b[0m\u001b[0;34m\u001b[0m\u001b[0;34m\u001b[0m\u001b[0;34m\u001b[0m\u001b[0m\n\u001b[1;32m      4\u001b[0m     \u001b[0mfriends\u001b[0m\u001b[0;34m.\u001b[0m\u001b[0mappend\u001b[0m\u001b[0;34m(\u001b[0m\u001b[0mfriend\u001b[0m\u001b[0;34m)\u001b[0m\u001b[0;34m\u001b[0m\u001b[0;34m\u001b[0m\u001b[0m\n",
      "\u001b[0;32m~/Documents/PROGRAMACION/PYTHON/TwitterAPI/env/lib/python3.8/site-packages/tweepy/cursor.py\u001b[0m in \u001b[0;36m__next__\u001b[0;34m(self)\u001b[0m\n\u001b[1;32m     49\u001b[0m \u001b[0;34m\u001b[0m\u001b[0m\n\u001b[1;32m     50\u001b[0m     \u001b[0;32mdef\u001b[0m \u001b[0m__next__\u001b[0m\u001b[0;34m(\u001b[0m\u001b[0mself\u001b[0m\u001b[0;34m)\u001b[0m\u001b[0;34m:\u001b[0m\u001b[0;34m\u001b[0m\u001b[0;34m\u001b[0m\u001b[0m\n\u001b[0;32m---> 51\u001b[0;31m         \u001b[0;32mreturn\u001b[0m \u001b[0mself\u001b[0m\u001b[0;34m.\u001b[0m\u001b[0mnext\u001b[0m\u001b[0;34m(\u001b[0m\u001b[0;34m)\u001b[0m\u001b[0;34m\u001b[0m\u001b[0;34m\u001b[0m\u001b[0m\n\u001b[0m\u001b[1;32m     52\u001b[0m \u001b[0;34m\u001b[0m\u001b[0m\n\u001b[1;32m     53\u001b[0m     \u001b[0;32mdef\u001b[0m \u001b[0mnext\u001b[0m\u001b[0;34m(\u001b[0m\u001b[0mself\u001b[0m\u001b[0;34m)\u001b[0m\u001b[0;34m:\u001b[0m\u001b[0;34m\u001b[0m\u001b[0;34m\u001b[0m\u001b[0m\n",
      "\u001b[0;32m~/Documents/PROGRAMACION/PYTHON/TwitterAPI/env/lib/python3.8/site-packages/tweepy/cursor.py\u001b[0m in \u001b[0;36mnext\u001b[0;34m(self)\u001b[0m\n\u001b[1;32m    241\u001b[0m         \u001b[0;32mif\u001b[0m \u001b[0mself\u001b[0m\u001b[0;34m.\u001b[0m\u001b[0mcurrent_page\u001b[0m \u001b[0;32mis\u001b[0m \u001b[0;32mNone\u001b[0m \u001b[0;32mor\u001b[0m \u001b[0mself\u001b[0m\u001b[0;34m.\u001b[0m\u001b[0mpage_index\u001b[0m \u001b[0;34m==\u001b[0m \u001b[0mlen\u001b[0m\u001b[0;34m(\u001b[0m\u001b[0mself\u001b[0m\u001b[0;34m.\u001b[0m\u001b[0mcurrent_page\u001b[0m\u001b[0;34m)\u001b[0m \u001b[0;34m-\u001b[0m \u001b[0;36m1\u001b[0m\u001b[0;34m:\u001b[0m\u001b[0;34m\u001b[0m\u001b[0;34m\u001b[0m\u001b[0m\n\u001b[1;32m    242\u001b[0m             \u001b[0;31m# Reached end of current page, get the next page...\u001b[0m\u001b[0;34m\u001b[0m\u001b[0;34m\u001b[0m\u001b[0;34m\u001b[0m\u001b[0m\n\u001b[0;32m--> 243\u001b[0;31m             \u001b[0mself\u001b[0m\u001b[0;34m.\u001b[0m\u001b[0mcurrent_page\u001b[0m \u001b[0;34m=\u001b[0m \u001b[0mself\u001b[0m\u001b[0;34m.\u001b[0m\u001b[0mpage_iterator\u001b[0m\u001b[0;34m.\u001b[0m\u001b[0mnext\u001b[0m\u001b[0;34m(\u001b[0m\u001b[0;34m)\u001b[0m\u001b[0;34m\u001b[0m\u001b[0;34m\u001b[0m\u001b[0m\n\u001b[0m\u001b[1;32m    244\u001b[0m             \u001b[0;32mwhile\u001b[0m \u001b[0mlen\u001b[0m\u001b[0;34m(\u001b[0m\u001b[0mself\u001b[0m\u001b[0;34m.\u001b[0m\u001b[0mcurrent_page\u001b[0m\u001b[0;34m)\u001b[0m \u001b[0;34m==\u001b[0m \u001b[0;36m0\u001b[0m\u001b[0;34m:\u001b[0m\u001b[0;34m\u001b[0m\u001b[0;34m\u001b[0m\u001b[0m\n\u001b[1;32m    245\u001b[0m                 \u001b[0mself\u001b[0m\u001b[0;34m.\u001b[0m\u001b[0mcurrent_page\u001b[0m \u001b[0;34m=\u001b[0m \u001b[0mself\u001b[0m\u001b[0;34m.\u001b[0m\u001b[0mpage_iterator\u001b[0m\u001b[0;34m.\u001b[0m\u001b[0mnext\u001b[0m\u001b[0;34m(\u001b[0m\u001b[0;34m)\u001b[0m\u001b[0;34m\u001b[0m\u001b[0;34m\u001b[0m\u001b[0m\n",
      "\u001b[0;32m~/Documents/PROGRAMACION/PYTHON/TwitterAPI/env/lib/python3.8/site-packages/tweepy/cursor.py\u001b[0m in \u001b[0;36mnext\u001b[0;34m(self)\u001b[0m\n\u001b[1;32m     73\u001b[0m         \u001b[0;32mif\u001b[0m \u001b[0mself\u001b[0m\u001b[0;34m.\u001b[0m\u001b[0mnext_cursor\u001b[0m \u001b[0;34m==\u001b[0m \u001b[0;36m0\u001b[0m \u001b[0;32mor\u001b[0m \u001b[0;34m(\u001b[0m\u001b[0mself\u001b[0m\u001b[0;34m.\u001b[0m\u001b[0mlimit\u001b[0m \u001b[0;32mand\u001b[0m \u001b[0mself\u001b[0m\u001b[0;34m.\u001b[0m\u001b[0mnum_tweets\u001b[0m \u001b[0;34m==\u001b[0m \u001b[0mself\u001b[0m\u001b[0;34m.\u001b[0m\u001b[0mlimit\u001b[0m\u001b[0;34m)\u001b[0m\u001b[0;34m:\u001b[0m\u001b[0;34m\u001b[0m\u001b[0;34m\u001b[0m\u001b[0m\n\u001b[1;32m     74\u001b[0m             \u001b[0;32mraise\u001b[0m \u001b[0mStopIteration\u001b[0m\u001b[0;34m\u001b[0m\u001b[0;34m\u001b[0m\u001b[0m\n\u001b[0;32m---> 75\u001b[0;31m         data, cursors = self.method(cursor=self.next_cursor,\n\u001b[0m\u001b[1;32m     76\u001b[0m                                     \u001b[0;34m*\u001b[0m\u001b[0mself\u001b[0m\u001b[0;34m.\u001b[0m\u001b[0margs\u001b[0m\u001b[0;34m,\u001b[0m\u001b[0;34m\u001b[0m\u001b[0;34m\u001b[0m\u001b[0m\n\u001b[1;32m     77\u001b[0m                                     **self.kwargs)\n",
      "\u001b[0;32m~/Documents/PROGRAMACION/PYTHON/TwitterAPI/env/lib/python3.8/site-packages/tweepy/binder.py\u001b[0m in \u001b[0;36m_call\u001b[0;34m(*args, **kwargs)\u001b[0m\n\u001b[1;32m    251\u001b[0m                 \u001b[0;32mreturn\u001b[0m \u001b[0mmethod\u001b[0m\u001b[0;34m\u001b[0m\u001b[0;34m\u001b[0m\u001b[0m\n\u001b[1;32m    252\u001b[0m             \u001b[0;32melse\u001b[0m\u001b[0;34m:\u001b[0m\u001b[0;34m\u001b[0m\u001b[0;34m\u001b[0m\u001b[0m\n\u001b[0;32m--> 253\u001b[0;31m                 \u001b[0;32mreturn\u001b[0m \u001b[0mmethod\u001b[0m\u001b[0;34m.\u001b[0m\u001b[0mexecute\u001b[0m\u001b[0;34m(\u001b[0m\u001b[0;34m)\u001b[0m\u001b[0;34m\u001b[0m\u001b[0;34m\u001b[0m\u001b[0m\n\u001b[0m\u001b[1;32m    254\u001b[0m         \u001b[0;32mfinally\u001b[0m\u001b[0;34m:\u001b[0m\u001b[0;34m\u001b[0m\u001b[0;34m\u001b[0m\u001b[0m\n\u001b[1;32m    255\u001b[0m             \u001b[0mmethod\u001b[0m\u001b[0;34m.\u001b[0m\u001b[0msession\u001b[0m\u001b[0;34m.\u001b[0m\u001b[0mclose\u001b[0m\u001b[0;34m(\u001b[0m\u001b[0;34m)\u001b[0m\u001b[0;34m\u001b[0m\u001b[0;34m\u001b[0m\u001b[0m\n",
      "\u001b[0;32m~/Documents/PROGRAMACION/PYTHON/TwitterAPI/env/lib/python3.8/site-packages/tweepy/binder.py\u001b[0m in \u001b[0;36mexecute\u001b[0;34m(self)\u001b[0m\n\u001b[1;32m    230\u001b[0m \u001b[0;34m\u001b[0m\u001b[0m\n\u001b[1;32m    231\u001b[0m                 \u001b[0;32mif\u001b[0m \u001b[0mis_rate_limit_error_message\u001b[0m\u001b[0;34m(\u001b[0m\u001b[0merror_msg\u001b[0m\u001b[0;34m)\u001b[0m\u001b[0;34m:\u001b[0m\u001b[0;34m\u001b[0m\u001b[0;34m\u001b[0m\u001b[0m\n\u001b[0;32m--> 232\u001b[0;31m                     \u001b[0;32mraise\u001b[0m \u001b[0mRateLimitError\u001b[0m\u001b[0;34m(\u001b[0m\u001b[0merror_msg\u001b[0m\u001b[0;34m,\u001b[0m \u001b[0mresp\u001b[0m\u001b[0;34m)\u001b[0m\u001b[0;34m\u001b[0m\u001b[0;34m\u001b[0m\u001b[0m\n\u001b[0m\u001b[1;32m    233\u001b[0m                 \u001b[0;32melse\u001b[0m\u001b[0;34m:\u001b[0m\u001b[0;34m\u001b[0m\u001b[0;34m\u001b[0m\u001b[0m\n\u001b[1;32m    234\u001b[0m                     \u001b[0;32mraise\u001b[0m \u001b[0mTweepError\u001b[0m\u001b[0;34m(\u001b[0m\u001b[0merror_msg\u001b[0m\u001b[0;34m,\u001b[0m \u001b[0mresp\u001b[0m\u001b[0;34m,\u001b[0m \u001b[0mapi_code\u001b[0m\u001b[0;34m=\u001b[0m\u001b[0mapi_error_code\u001b[0m\u001b[0;34m)\u001b[0m\u001b[0;34m\u001b[0m\u001b[0;34m\u001b[0m\u001b[0m\n",
      "\u001b[0;31mRateLimitError\u001b[0m: [{'message': 'Rate limit exceeded', 'code': 88}]"
     ]
    }
   ],
   "source": [
    "friends=[]\n",
    "for friend in tweepy.Cursor(api.friends).items():\n",
    "    # Process the friend here\n",
    "    friends.append(friend)"
   ]
  },
  {
   "cell_type": "code",
   "execution_count": 55,
   "metadata": {},
   "outputs": [
    {
     "output_type": "execute_result",
     "data": {
      "text/plain": [
       "260"
      ]
     },
     "metadata": {},
     "execution_count": 55
    }
   ],
   "source": [
    "len(friends)"
   ]
  },
  {
   "cell_type": "code",
   "execution_count": 60,
   "metadata": {},
   "outputs": [
    {
     "output_type": "error",
     "ename": "RuntimeError",
     "evalue": "generator raised StopIteration",
     "traceback": [
      "\u001b[0;31m---------------------------------------------------------------------------\u001b[0m",
      "\u001b[0;31mStopIteration\u001b[0m                             Traceback (most recent call last)",
      "\u001b[0;32m<ipython-input-60-5f2700ee8ff3>\u001b[0m in \u001b[0;36mlimit_handled\u001b[0;34m(cursor)\u001b[0m\n\u001b[1;32m      6\u001b[0m         \u001b[0;32mtry\u001b[0m\u001b[0;34m:\u001b[0m\u001b[0;34m\u001b[0m\u001b[0;34m\u001b[0m\u001b[0m\n\u001b[0;32m----> 7\u001b[0;31m             \u001b[0;32myield\u001b[0m \u001b[0mnext\u001b[0m\u001b[0;34m(\u001b[0m\u001b[0mcursor\u001b[0m\u001b[0;34m)\u001b[0m\u001b[0;34m\u001b[0m\u001b[0;34m\u001b[0m\u001b[0m\n\u001b[0m\u001b[1;32m      8\u001b[0m         \u001b[0;32mexcept\u001b[0m \u001b[0mtweepy\u001b[0m\u001b[0;34m.\u001b[0m\u001b[0mRateLimitError\u001b[0m\u001b[0;34m:\u001b[0m\u001b[0;34m\u001b[0m\u001b[0;34m\u001b[0m\u001b[0m\n",
      "\u001b[0;32m~/Documents/PROGRAMACION/PYTHON/TwitterAPI/env/lib/python3.8/site-packages/tweepy/cursor.py\u001b[0m in \u001b[0;36m__next__\u001b[0;34m(self)\u001b[0m\n\u001b[1;32m     50\u001b[0m     \u001b[0;32mdef\u001b[0m \u001b[0m__next__\u001b[0m\u001b[0;34m(\u001b[0m\u001b[0mself\u001b[0m\u001b[0;34m)\u001b[0m\u001b[0;34m:\u001b[0m\u001b[0;34m\u001b[0m\u001b[0;34m\u001b[0m\u001b[0m\n\u001b[0;32m---> 51\u001b[0;31m         \u001b[0;32mreturn\u001b[0m \u001b[0mself\u001b[0m\u001b[0;34m.\u001b[0m\u001b[0mnext\u001b[0m\u001b[0;34m(\u001b[0m\u001b[0;34m)\u001b[0m\u001b[0;34m\u001b[0m\u001b[0;34m\u001b[0m\u001b[0m\n\u001b[0m\u001b[1;32m     52\u001b[0m \u001b[0;34m\u001b[0m\u001b[0m\n",
      "\u001b[0;32m~/Documents/PROGRAMACION/PYTHON/TwitterAPI/env/lib/python3.8/site-packages/tweepy/cursor.py\u001b[0m in \u001b[0;36mnext\u001b[0;34m(self)\u001b[0m\n\u001b[1;32m    242\u001b[0m             \u001b[0;31m# Reached end of current page, get the next page...\u001b[0m\u001b[0;34m\u001b[0m\u001b[0;34m\u001b[0m\u001b[0;34m\u001b[0m\u001b[0m\n\u001b[0;32m--> 243\u001b[0;31m             \u001b[0mself\u001b[0m\u001b[0;34m.\u001b[0m\u001b[0mcurrent_page\u001b[0m \u001b[0;34m=\u001b[0m \u001b[0mself\u001b[0m\u001b[0;34m.\u001b[0m\u001b[0mpage_iterator\u001b[0m\u001b[0;34m.\u001b[0m\u001b[0mnext\u001b[0m\u001b[0;34m(\u001b[0m\u001b[0;34m)\u001b[0m\u001b[0;34m\u001b[0m\u001b[0;34m\u001b[0m\u001b[0m\n\u001b[0m\u001b[1;32m    244\u001b[0m             \u001b[0;32mwhile\u001b[0m \u001b[0mlen\u001b[0m\u001b[0;34m(\u001b[0m\u001b[0mself\u001b[0m\u001b[0;34m.\u001b[0m\u001b[0mcurrent_page\u001b[0m\u001b[0;34m)\u001b[0m \u001b[0;34m==\u001b[0m \u001b[0;36m0\u001b[0m\u001b[0;34m:\u001b[0m\u001b[0;34m\u001b[0m\u001b[0;34m\u001b[0m\u001b[0m\n",
      "\u001b[0;32m~/Documents/PROGRAMACION/PYTHON/TwitterAPI/env/lib/python3.8/site-packages/tweepy/cursor.py\u001b[0m in \u001b[0;36mnext\u001b[0;34m(self)\u001b[0m\n\u001b[1;32m     73\u001b[0m         \u001b[0;32mif\u001b[0m \u001b[0mself\u001b[0m\u001b[0;34m.\u001b[0m\u001b[0mnext_cursor\u001b[0m \u001b[0;34m==\u001b[0m \u001b[0;36m0\u001b[0m \u001b[0;32mor\u001b[0m \u001b[0;34m(\u001b[0m\u001b[0mself\u001b[0m\u001b[0;34m.\u001b[0m\u001b[0mlimit\u001b[0m \u001b[0;32mand\u001b[0m \u001b[0mself\u001b[0m\u001b[0;34m.\u001b[0m\u001b[0mnum_tweets\u001b[0m \u001b[0;34m==\u001b[0m \u001b[0mself\u001b[0m\u001b[0;34m.\u001b[0m\u001b[0mlimit\u001b[0m\u001b[0;34m)\u001b[0m\u001b[0;34m:\u001b[0m\u001b[0;34m\u001b[0m\u001b[0;34m\u001b[0m\u001b[0m\n\u001b[0;32m---> 74\u001b[0;31m             \u001b[0;32mraise\u001b[0m \u001b[0mStopIteration\u001b[0m\u001b[0;34m\u001b[0m\u001b[0;34m\u001b[0m\u001b[0m\n\u001b[0m\u001b[1;32m     75\u001b[0m         data, cursors = self.method(cursor=self.next_cursor,\n",
      "\u001b[0;31mStopIteration\u001b[0m: ",
      "\nThe above exception was the direct cause of the following exception:\n",
      "\u001b[0;31mRuntimeError\u001b[0m                              Traceback (most recent call last)",
      "\u001b[0;32m<ipython-input-60-5f2700ee8ff3>\u001b[0m in \u001b[0;36m<module>\u001b[0;34m\u001b[0m\n\u001b[1;32m      9\u001b[0m             \u001b[0mtime\u001b[0m\u001b[0;34m.\u001b[0m\u001b[0msleep\u001b[0m\u001b[0;34m(\u001b[0m\u001b[0;36m2\u001b[0m \u001b[0;34m*\u001b[0m \u001b[0;36m60\u001b[0m\u001b[0;34m)\u001b[0m\u001b[0;34m\u001b[0m\u001b[0;34m\u001b[0m\u001b[0m\n\u001b[1;32m     10\u001b[0m \u001b[0;34m\u001b[0m\u001b[0m\n\u001b[0;32m---> 11\u001b[0;31m \u001b[0;32mfor\u001b[0m \u001b[0mfriend\u001b[0m \u001b[0;32min\u001b[0m \u001b[0mlimit_handled\u001b[0m\u001b[0;34m(\u001b[0m\u001b[0mtweepy\u001b[0m\u001b[0;34m.\u001b[0m\u001b[0mCursor\u001b[0m\u001b[0;34m(\u001b[0m\u001b[0mapi\u001b[0m\u001b[0;34m.\u001b[0m\u001b[0mfriends\u001b[0m\u001b[0;34m)\u001b[0m\u001b[0;34m.\u001b[0m\u001b[0mitems\u001b[0m\u001b[0;34m(\u001b[0m\u001b[0;34m)\u001b[0m\u001b[0;34m)\u001b[0m\u001b[0;34m:\u001b[0m\u001b[0;34m\u001b[0m\u001b[0;34m\u001b[0m\u001b[0m\n\u001b[0m\u001b[1;32m     12\u001b[0m     \u001b[0mfriends\u001b[0m\u001b[0;34m.\u001b[0m\u001b[0mappend\u001b[0m\u001b[0;34m(\u001b[0m\u001b[0mfriend\u001b[0m\u001b[0;34m)\u001b[0m\u001b[0;34m\u001b[0m\u001b[0;34m\u001b[0m\u001b[0m\n",
      "\u001b[0;31mRuntimeError\u001b[0m: generator raised StopIteration"
     ]
    }
   ],
   "source": [
    "import time\n",
    "\n",
    "friends=[]\n",
    "def limit_handled(cursor):\n",
    "    while True:\n",
    "        try:\n",
    "            yield next(cursor)\n",
    "        except tweepy.RateLimitError:\n",
    "            time.sleep(2 * 60)\n",
    "\n",
    "for friend in limit_handled(tweepy.Cursor(api.friends).items()):\n",
    "    friends.append(friend)"
   ]
  },
  {
   "cell_type": "code",
   "execution_count": 61,
   "metadata": {},
   "outputs": [
    {
     "output_type": "execute_result",
     "data": {
      "text/plain": [
       "2653"
      ]
     },
     "metadata": {},
     "execution_count": 61
    }
   ],
   "source": [
    "len(friends)"
   ]
  },
  {
   "cell_type": "code",
   "execution_count": 65,
   "metadata": {},
   "outputs": [
    {
     "output_type": "execute_result",
     "data": {
      "text/plain": [
       "User(_api=<tweepy.api.API object at 0x7fafc8208910>, _json={'id': 1263491240336769026, 'id_str': '1263491240336769026', 'name': 'Whole Mars Catalog', 'screen_name': 'WholeMarsBlog', 'location': '🇺🇸', 'description': 'part 24 hour EV news channel / part shitty stand up comedy routine. unofficial fan account. comedy commentary fan parody', 'url': 'https://t.co/af8UuUKFPQ', 'entities': {'url': {'urls': [{'url': 'https://t.co/af8UuUKFPQ', 'expanded_url': 'http://wholemars.net', 'display_url': 'wholemars.net', 'indices': [0, 23]}]}, 'description': {'urls': []}}, 'protected': False, 'followers_count': 18992, 'friends_count': 5558, 'listed_count': 150, 'created_at': 'Thu May 21 15:26:16 +0000 2020', 'favourites_count': 118316, 'utc_offset': None, 'time_zone': None, 'geo_enabled': True, 'verified': False, 'statuses_count': 79665, 'lang': None, 'status': {'created_at': 'Sat Feb 20 14:01:32 +0000 2021', 'id': 1363126645037486083, 'id_str': '1363126645037486083', 'text': '@Plunk20 yes', 'truncated': False, 'entities': {'hashtags': [], 'symbols': [], 'user_mentions': [{'screen_name': 'Plunk20', 'name': 'Mike Plunkett', 'id': 48779126, 'id_str': '48779126', 'indices': [0, 8]}], 'urls': []}, 'source': '<a href=\"http://twitter.com/download/iphone\" rel=\"nofollow\">Twitter for iPhone</a>', 'in_reply_to_status_id': 1363126600171196417, 'in_reply_to_status_id_str': '1363126600171196417', 'in_reply_to_user_id': 48779126, 'in_reply_to_user_id_str': '48779126', 'in_reply_to_screen_name': 'Plunk20', 'geo': None, 'coordinates': None, 'place': None, 'contributors': None, 'is_quote_status': False, 'retweet_count': 0, 'favorite_count': 1, 'favorited': False, 'retweeted': False, 'lang': 'und'}, 'contributors_enabled': False, 'is_translator': False, 'is_translation_enabled': False, 'profile_background_color': 'F5F8FA', 'profile_background_image_url': None, 'profile_background_image_url_https': None, 'profile_background_tile': False, 'profile_image_url': 'http://pbs.twimg.com/profile_images/1297596222354554880/Z14EA2fX_normal.jpg', 'profile_image_url_https': 'https://pbs.twimg.com/profile_images/1297596222354554880/Z14EA2fX_normal.jpg', 'profile_banner_url': 'https://pbs.twimg.com/profile_banners/1263491240336769026/1612905598', 'profile_link_color': '1DA1F2', 'profile_sidebar_border_color': 'C0DEED', 'profile_sidebar_fill_color': 'DDEEF6', 'profile_text_color': '333333', 'profile_use_background_image': True, 'has_extended_profile': True, 'default_profile': True, 'default_profile_image': False, 'following': True, 'live_following': False, 'follow_request_sent': False, 'notifications': False, 'muting': False, 'blocking': False, 'blocked_by': False, 'translator_type': 'none'}, id=1263491240336769026, id_str='1263491240336769026', name='Whole Mars Catalog', screen_name='WholeMarsBlog', location='🇺🇸', description='part 24 hour EV news channel / part shitty stand up comedy routine. unofficial fan account. comedy commentary fan parody', url='https://t.co/af8UuUKFPQ', entities={'url': {'urls': [{'url': 'https://t.co/af8UuUKFPQ', 'expanded_url': 'http://wholemars.net', 'display_url': 'wholemars.net', 'indices': [0, 23]}]}, 'description': {'urls': []}}, protected=False, followers_count=18992, friends_count=5558, listed_count=150, created_at=datetime.datetime(2020, 5, 21, 15, 26, 16), favourites_count=118316, utc_offset=None, time_zone=None, geo_enabled=True, verified=False, statuses_count=79665, lang=None, status=Status(_api=<tweepy.api.API object at 0x7fafc8208910>, _json={'created_at': 'Sat Feb 20 14:01:32 +0000 2021', 'id': 1363126645037486083, 'id_str': '1363126645037486083', 'text': '@Plunk20 yes', 'truncated': False, 'entities': {'hashtags': [], 'symbols': [], 'user_mentions': [{'screen_name': 'Plunk20', 'name': 'Mike Plunkett', 'id': 48779126, 'id_str': '48779126', 'indices': [0, 8]}], 'urls': []}, 'source': '<a href=\"http://twitter.com/download/iphone\" rel=\"nofollow\">Twitter for iPhone</a>', 'in_reply_to_status_id': 1363126600171196417, 'in_reply_to_status_id_str': '1363126600171196417', 'in_reply_to_user_id': 48779126, 'in_reply_to_user_id_str': '48779126', 'in_reply_to_screen_name': 'Plunk20', 'geo': None, 'coordinates': None, 'place': None, 'contributors': None, 'is_quote_status': False, 'retweet_count': 0, 'favorite_count': 1, 'favorited': False, 'retweeted': False, 'lang': 'und'}, created_at=datetime.datetime(2021, 2, 20, 14, 1, 32), id=1363126645037486083, id_str='1363126645037486083', text='@Plunk20 yes', truncated=False, entities={'hashtags': [], 'symbols': [], 'user_mentions': [{'screen_name': 'Plunk20', 'name': 'Mike Plunkett', 'id': 48779126, 'id_str': '48779126', 'indices': [0, 8]}], 'urls': []}, source='Twitter for iPhone', source_url='http://twitter.com/download/iphone', in_reply_to_status_id=1363126600171196417, in_reply_to_status_id_str='1363126600171196417', in_reply_to_user_id=48779126, in_reply_to_user_id_str='48779126', in_reply_to_screen_name='Plunk20', geo=None, coordinates=None, place=None, contributors=None, is_quote_status=False, retweet_count=0, favorite_count=1, favorited=False, retweeted=False, lang='und'), contributors_enabled=False, is_translator=False, is_translation_enabled=False, profile_background_color='F5F8FA', profile_background_image_url=None, profile_background_image_url_https=None, profile_background_tile=False, profile_image_url='http://pbs.twimg.com/profile_images/1297596222354554880/Z14EA2fX_normal.jpg', profile_image_url_https='https://pbs.twimg.com/profile_images/1297596222354554880/Z14EA2fX_normal.jpg', profile_banner_url='https://pbs.twimg.com/profile_banners/1263491240336769026/1612905598', profile_link_color='1DA1F2', profile_sidebar_border_color='C0DEED', profile_sidebar_fill_color='DDEEF6', profile_text_color='333333', profile_use_background_image=True, has_extended_profile=True, default_profile=True, default_profile_image=False, following=True, live_following=False, follow_request_sent=False, notifications=False, muting=False, blocking=False, blocked_by=False, translator_type='none')"
      ]
     },
     "metadata": {},
     "execution_count": 65
    }
   ],
   "source": [
    "friends[0]"
   ]
  },
  {
   "cell_type": "code",
   "execution_count": 72,
   "metadata": {},
   "outputs": [
    {
     "output_type": "execute_result",
     "data": {
      "text/plain": [
       "{'id': 1263491240336769026,\n",
       " 'id_str': '1263491240336769026',\n",
       " 'name': 'Whole Mars Catalog',\n",
       " 'screen_name': 'WholeMarsBlog',\n",
       " 'location': '🇺🇸',\n",
       " 'description': 'part 24 hour EV news channel / part shitty stand up comedy routine. unofficial fan account. comedy commentary fan parody',\n",
       " 'url': 'https://t.co/af8UuUKFPQ',\n",
       " 'entities': {'url': {'urls': [{'url': 'https://t.co/af8UuUKFPQ',\n",
       "     'expanded_url': 'http://wholemars.net',\n",
       "     'display_url': 'wholemars.net',\n",
       "     'indices': [0, 23]}]},\n",
       "  'description': {'urls': []}},\n",
       " 'protected': False,\n",
       " 'followers_count': 18992,\n",
       " 'friends_count': 5558,\n",
       " 'listed_count': 150,\n",
       " 'created_at': 'Thu May 21 15:26:16 +0000 2020',\n",
       " 'favourites_count': 118316,\n",
       " 'utc_offset': None,\n",
       " 'time_zone': None,\n",
       " 'geo_enabled': True,\n",
       " 'verified': False,\n",
       " 'statuses_count': 79665,\n",
       " 'lang': None,\n",
       " 'status': {'created_at': 'Sat Feb 20 14:01:32 +0000 2021',\n",
       "  'id': 1363126645037486083,\n",
       "  'id_str': '1363126645037486083',\n",
       "  'text': '@Plunk20 yes',\n",
       "  'truncated': False,\n",
       "  'entities': {'hashtags': [],\n",
       "   'symbols': [],\n",
       "   'user_mentions': [{'screen_name': 'Plunk20',\n",
       "     'name': 'Mike Plunkett',\n",
       "     'id': 48779126,\n",
       "     'id_str': '48779126',\n",
       "     'indices': [0, 8]}],\n",
       "   'urls': []},\n",
       "  'source': '<a href=\"http://twitter.com/download/iphone\" rel=\"nofollow\">Twitter for iPhone</a>',\n",
       "  'in_reply_to_status_id': 1363126600171196417,\n",
       "  'in_reply_to_status_id_str': '1363126600171196417',\n",
       "  'in_reply_to_user_id': 48779126,\n",
       "  'in_reply_to_user_id_str': '48779126',\n",
       "  'in_reply_to_screen_name': 'Plunk20',\n",
       "  'geo': None,\n",
       "  'coordinates': None,\n",
       "  'place': None,\n",
       "  'contributors': None,\n",
       "  'is_quote_status': False,\n",
       "  'retweet_count': 0,\n",
       "  'favorite_count': 1,\n",
       "  'favorited': False,\n",
       "  'retweeted': False,\n",
       "  'lang': 'und'},\n",
       " 'contributors_enabled': False,\n",
       " 'is_translator': False,\n",
       " 'is_translation_enabled': False,\n",
       " 'profile_background_color': 'F5F8FA',\n",
       " 'profile_background_image_url': None,\n",
       " 'profile_background_image_url_https': None,\n",
       " 'profile_background_tile': False,\n",
       " 'profile_image_url': 'http://pbs.twimg.com/profile_images/1297596222354554880/Z14EA2fX_normal.jpg',\n",
       " 'profile_image_url_https': 'https://pbs.twimg.com/profile_images/1297596222354554880/Z14EA2fX_normal.jpg',\n",
       " 'profile_banner_url': 'https://pbs.twimg.com/profile_banners/1263491240336769026/1612905598',\n",
       " 'profile_link_color': '1DA1F2',\n",
       " 'profile_sidebar_border_color': 'C0DEED',\n",
       " 'profile_sidebar_fill_color': 'DDEEF6',\n",
       " 'profile_text_color': '333333',\n",
       " 'profile_use_background_image': True,\n",
       " 'has_extended_profile': True,\n",
       " 'default_profile': True,\n",
       " 'default_profile_image': False,\n",
       " 'following': True,\n",
       " 'live_following': False,\n",
       " 'follow_request_sent': False,\n",
       " 'notifications': False,\n",
       " 'muting': False,\n",
       " 'blocking': False,\n",
       " 'blocked_by': False,\n",
       " 'translator_type': 'none'}"
      ]
     },
     "metadata": {},
     "execution_count": 72
    }
   ],
   "source": [
    "friends[0]._json"
   ]
  },
  {
   "cell_type": "code",
   "execution_count": 74,
   "metadata": {},
   "outputs": [],
   "source": [
    "output=[]\n",
    "for friend in friends:\n",
    "    row=[]\n",
    "    row.append(friend.id_str)\n",
    "    row.append(friend.name)\n",
    "    row.append(friend.screen_name)\n",
    "    row.append(friend.location)\n",
    "    row.append(friend.description)\n",
    "    row.append(friend.url)\n",
    "    row.append(friend.protected)\n",
    "    row.append(friend.followers_count)\n",
    "    row.append(friend.friends_count)\n",
    "    row.append(friend.created_at)\n",
    "    row.append(friend.geo_enabled)\n",
    "    row.append(friend.verified)\n",
    "    row.append(friend.following)\n",
    "    output.append(row)"
   ]
  },
  {
   "cell_type": "code",
   "execution_count": 76,
   "metadata": {},
   "outputs": [],
   "source": [
    "import csv\n",
    "from datetime import datetime"
   ]
  },
  {
   "cell_type": "code",
   "execution_count": 77,
   "metadata": {},
   "outputs": [],
   "source": [
    "now = datetime.now() # current date and time\n",
    "#date_time = now.strftime(\"%m/%d/%Y, %H:%M:%S\")\n",
    "date_time = now.strftime(\"%m%d%Y %H%M%S\")\n",
    "name=\"Out - \"+date_time+\".csv\"\n",
    "open(name, 'a').close()"
   ]
  },
  {
   "cell_type": "code",
   "execution_count": 78,
   "metadata": {},
   "outputs": [],
   "source": [
    "with open(name, \"w\", newline=\"\") as f:\n",
    "    writer = csv.writer(f)\n",
    "    writer.writerows(output)"
   ]
  },
  {
   "cell_type": "code",
   "execution_count": 75,
   "metadata": {},
   "outputs": [
    {
     "output_type": "execute_result",
     "data": {
      "text/plain": [
       "2653"
      ]
     },
     "metadata": {},
     "execution_count": 75
    }
   ],
   "source": [
    "len(output)"
   ]
  },
  {
   "cell_type": "code",
   "execution_count": null,
   "metadata": {},
   "outputs": [],
   "source": []
  }
 ]
}